{
   "cells": [
      {
         "cell_type": "markdown",
         "id": "fc262ad8",
         "metadata": {},
         "source": [
            "## Loading GeoJSON from Geoserver WFS"
         ]
      },
      {
         "cell_type": "code",
         "execution_count": null,
         "id": "fedc65a1",
         "metadata": {},
         "outputs": [],
         "source": [
            "!pip install matplotlib geopandas folium numpy pandas matplotlib rasterio"
         ]
      },
      {
         "cell_type": "code",
         "execution_count": null,
         "id": "09028b3d",
         "metadata": {},
         "outputs": [],
         "source": [
            "import requests\n",
            "import geopandas as gpd\n",
            "import folium\n",
            "\n",
            "\n",
            "# Accept user input for the GeoServer URL and the typeName of the layer\n",
            "geoserver_url = \"https://geowebservices.stanford.edu/geoserver/druid/ows?\"\n",
            "type_name = \"druid:vx572wx7854\"\n",
            "\n",
            "# Define the parameters for the WFS service\n",
            "params = {\n",
            "    'service': 'WFS',\n",
            "    'version': '2.0.0',\n",
            "    'request': 'GetFeature',\n",
            "    'typeName': type_name,\n",
            "    'outputFormat': 'application/json'\n",
            "}\n",
            "\n",
            "# Send a GET request to the GeoServer WFS service\n",
            "response = requests.get(geoserver_url, params=params)\n",
            "\n",
            "# Define the center of the map\n",
            "center = [35.0, -120.0]\n",
            "\n",
            "# Create the map\n",
            "m = folium.Map(location=center, zoom_start=2)\n",
            "\n",
            "# Load the features from the WFS service into a GeoDataFrame\n",
            "gdf = gpd.read_file(response.text)\n",
            "\n",
            "\n",
            "# Add the GeoDataFrame to the map as a GeoJson layer\n",
            "folium.GeoJson(gdf).add_to(m)\n",
            "\n",
            "# Display the map\n",
            "m"
         ]
      },
      {
         "cell_type": "markdown",
         "id": "06e97635",
         "metadata": {},
         "source": [
            "## Loading GeoJSON from a STACKS URL"
         ]
      },
      {
         "cell_type": "code",
         "execution_count": null,
         "id": "6abb376c",
         "metadata": {},
         "outputs": [],
         "source": [
            "import requests\n",
            "import geopandas as gpd\n",
            "import folium\n",
            "\n",
            "# Define the GeoJSON URL\n",
            "geojson_url = \"https://stacks.stanford.edu/file/druid:vx812cc5548/stanford-vx572wx7854-geojson.geojson\"\n",
            "\n",
            "# Send a GET request to the GeoJSON URL\n",
            "response = requests.get(geojson_url)\n",
            "\n",
            "# Define the center of the map\n",
            "center = [35.0, -120.0]\n",
            "\n",
            "# Create the map\n",
            "m = folium.Map(location=center, zoom_start=2)\n",
            "\n",
            "# Load the features from the GeoJSON URL into a GeoDataFrame\n",
            "gdf = gpd.read_file(response.text)\n",
            "\n",
            "# Add the GeoDataFrame to the map as a GeoJson layer\n",
            "folium.GeoJson(gdf).add_to(m)\n",
            "\n",
            "# Display the map\n",
            "m"
         ]
      },
      {
         "cell_type": "markdown",
         "id": "39bce797",
         "metadata": {},
         "source": [
            "## Loading COG from a STACKS URL"
         ]
      },
      {
         "cell_type": "code",
         "execution_count": null,
         "id": "bce534a5",
         "metadata": {},
         "outputs": [],
         "source": [
            "import rasterio\n",
            "import matplotlib.pyplot as plt\n",
            "import numpy as np\n",
            "\n",
            "# Specify the path for Landsat TIF on AWS\n",
            "fp = 'https://stacks.stanford.edu/file/druid%3Avq494qx9344/odm_orthophoto_COG_d.tif'\n",
            "\n",
            "# See the profile\n",
            "with rasterio.open(fp) as src:\n",
            "    print(src.profile)\n",
            "    \n",
            "    %matplotlib inline\n",
            "# Open the COG\n",
            "with rasterio.open(fp) as src:\n",
            "    # List of overviews from biggest to smallest\n",
            "    oviews = src.overviews(1)\n",
            "\n",
            "    # Retrieve the smallest thumbnail\n",
            "    oview = oviews[-1]\n",
            "    print('Decimation factor= {}'.format(oview))\n",
            "    # NOTE this is using a 'decimated read' (http://rasterio.readthedocs.io/en/latest/topics/resampling.html)\n",
            "    thumbnail = src.read(1, out_shape=(1, int(src.height // oview), int(src.width // oview)))\n",
            "\n",
            "print('array type: ',type(thumbnail))\n",
            "print(thumbnail)\n",
            "\n",
            "plt.imshow(thumbnail)\n",
            "plt.colorbar()\n",
            "plt.title('Overview - Band 4 {}'.format(thumbnail.shape))\n",
            "plt.xlabel('Column #')\n",
            "plt.ylabel('Row #')"
         ]
      },
      {
         "cell_type": "code",
         "execution_count": null,
         "id": "f972c552",
         "metadata": {},
         "outputs": [],
         "source": [
            "import folium\n",
            "from osgeo import gdal\n",
            "\n",
            "# Define the URL of the cloud optimized GeoTIFF\n",
            "geotiff_url = \"/vsicurl/https://stacks.stanford.edu/file/druid%3Avq494qx9344/odm_orthophoto_COG_d.tif\"\n",
            "\n",
            "# Open the GeoTIFF file using GDAL\n",
            "dataset = gdal.Open(geotiff_url)\n",
            "\n",
            "# Read the image data from the GeoTIFF\n",
            "image = dataset.ReadAsArray()\n",
            "\n",
            "# Define the center of the map\n",
            "center = [dataset.GetGeoTransform()[3] + dataset.RasterYSize * dataset.GetGeoTransform()[5] / 2,\n",
            "          dataset.GetGeoTransform()[0] + dataset.RasterXSize * dataset.GetGeoTransform()[1] / 2]\n",
            "\n",
            "# Convert the image data to RGBA format\n",
            "image = image.transpose(1, 2, 0)\n",
            "\n",
            "# Create the map\n",
            "m = folium.Map(location=center, zoom_start=10)\n",
            "\n",
            "# Add the image overlay to the map\n",
            "folium.raster_layers.ImageOverlay(\n",
            "    image=image,\n",
            "    bounds=[[dataset.GetGeoTransform()[3], dataset.GetGeoTransform()[0]],\n",
            "            [dataset.GetGeoTransform()[3] + dataset.RasterYSize * dataset.GetGeoTransform()[5],\n",
            "             dataset.GetGeoTransform()[0] + dataset.RasterXSize * dataset.GetGeoTransform()[1]]],\n",
            "    colormap=lambda x: (0, 0, 0, x),\n",
            ").add_to(m)\n",
            "\n",
            "# Display the map\n",
            "m"
         ]
      }
   ],
   "metadata": {
      "kernelspec": {
         "display_name": "Python 3",
         "language": "python",
         "name": "python3"
      },
      "language_info": {
         "codemirror_mode": {
            "name": "ipython",
            "version": 3
         },
         "file_extension": ".py",
         "mimetype": "text/x-python",
         "name": "python",
         "nbconvert_exporter": "python",
         "pygments_lexer": "ipython3",
         "version": "3.11.8"
      }
   },
   "nbformat": 4,
   "nbformat_minor": 5
}
