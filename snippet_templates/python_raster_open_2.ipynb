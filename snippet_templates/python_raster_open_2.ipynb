{
 "cells": [
  {
   "cell_type": "code",
   "execution_count": null,
   "metadata": {},
   "outputs": [],
   "source": [
    "pip install rasterio numpy matplotlib"
   ]
  },
  {
   "cell_type": "code",
   "execution_count": null,
   "metadata": {},
   "outputs": [],
   "source": [
    "import requests\n",
    "import zipfile\n",
    "import io\n",
    "import rasterio\n",
    "from rasterio.plot import show\n",
    "import matplotlib.pyplot as plt\n",
    "import os\n",
    "\n",
    "def download_and_display_geotiff(layer_name):\n",
    "    zip_url = f\"https://stacks.stanford.edu/object/{layer_name}\"\n",
    "    response = requests.get(zip_url)\n",
    "    extract_path = f\"./{layer_name}\"\n",
    "    os.makedirs(extract_path, exist_ok=True)\n",
    "    \n",
    "    with zipfile.ZipFile(io.BytesIO(response.content)) as zip_ref:\n",
    "        zip_ref.extractall(extract_path)\n",
    "        with zipfile.ZipFile(os.path.join(extract_path, \"data.zip\")) as inner_zip:\n",
    "            inner_zip.extractall(extract_path)\n",
    "    \n",
    "    geotiff_filename = next((os.path.join(root, file) for root, _, files in os.walk(extract_path) for file in files if file.endswith('.tif')), None)\n",
    "    if not geotiff_filename:\n",
    "        print(\"No GeoTIFF file found.\")\n",
    "        return\n",
    "    \n",
    "    with rasterio.open(geotiff_filename) as dataset:\n",
    "        plt.figure(figsize=(10, 10))\n",
    "        plt.title(f\"Raster Data for {layer_name}\")\n",
    "        show(dataset, cmap='gray')\n",
    "        plt.close()\n",
    "\n",
    "# Example usage\n",
    "download_and_display_geotiff(\"zz925nt9211\")\n"
   ]
  }
 ],
 "metadata": {
  "kernelspec": {
   "display_name": "gdal-env",
   "language": "python",
   "name": "python3"
  },
  "language_info": {
   "codemirror_mode": {
    "name": "ipython",
    "version": 3
   },
   "file_extension": ".py",
   "mimetype": "text/x-python",
   "name": "python",
   "nbconvert_exporter": "python",
   "pygments_lexer": "ipython3",
   "version": "3.11.8"
  }
 },
 "nbformat": 4,
 "nbformat_minor": 2
}
