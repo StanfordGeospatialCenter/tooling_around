{
 "cells": [
  {
   "cell_type": "code",
   "execution_count": null,
   "metadata": {},
   "outputs": [],
   "source": [
    "!pip install geopandas folium"
   ]
  },
  {
   "cell_type": "code",
   "execution_count": null,
   "metadata": {},
   "outputs": [],
   "source": [
    "import requests\n",
    "import geopandas as gpd\n",
    "import folium\n",
    "\n",
    "\n",
    "# Accept user input for the GeoServer URL and the typeName of the layer\n",
    "geoserver_url = \"https://geowebservices.stanford.edu/geoserver/druid/ows?\"\n",
    "type_name = \"druid:vx572wx7854\"\n",
    "\n",
    "# Define the parameters for the WFS service\n",
    "params = {\n",
    "    'service': 'WFS',\n",
    "    'version': '2.0.0',\n",
    "    'request': 'GetFeature',\n",
    "    'typeName': type_name,\n",
    "    'outputFormat': 'application/json'\n",
    "}\n",
    "\n",
    "# Send a GET request to the GeoServer WFS service\n",
    "response = requests.get(geoserver_url, params=params)\n",
    "\n",
    "# Define the center of the map\n",
    "center = [35.0, -120.0]\n",
    "\n",
    "# Create the map\n",
    "m = folium.Map(location=center, zoom_start=2)\n",
    "\n",
    "# Load the features from the WFS service into a GeoDataFrame\n",
    "gdf = gpd.read_file(response.text)\n",
    "\n",
    "\n",
    "# Add the GeoDataFrame to the map as a GeoJson layer\n",
    "folium.GeoJson(gdf).add_to(m)\n",
    "\n",
    "# Display the map\n",
    "m"
   ]
  }
 ],
 "metadata": {
  "kernelspec": {
   "display_name": "gdal-env",
   "language": "python",
   "name": "python3"
  },
  "language_info": {
   "codemirror_mode": {
    "name": "ipython",
    "version": 3
   },
   "file_extension": ".py",
   "mimetype": "text/x-python",
   "name": "python",
   "nbconvert_exporter": "python",
   "pygments_lexer": "ipython3",
   "version": "3.11.8"
  }
 },
 "nbformat": 4,
 "nbformat_minor": 2
}
