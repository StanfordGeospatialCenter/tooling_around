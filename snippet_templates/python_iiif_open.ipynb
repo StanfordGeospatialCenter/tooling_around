{
 "cells": [
  {
   "cell_type": "code",
   "execution_count": null,
   "metadata": {},
   "outputs": [],
   "source": [
    "pip install iiif_downloader matplotlib pillow"
   ]
  },
  {
   "cell_type": "code",
   "execution_count": null,
   "metadata": {},
   "outputs": [],
   "source": [
    "from iiif_downloader import Manifest\n",
    "import matplotlib.pyplot as plt\n",
    "import PIL.Image as Image\n",
    "import os\n",
    "\n",
    "def find_images(directory):\n",
    "    \"\"\"Recursively searches a directory and its subdirectories for image files.\"\"\"\n",
    "    image_files = []\n",
    "    for root, _, files in os.walk(directory):\n",
    "        for file in files:\n",
    "            if file.endswith(('.jpg', '.jpeg', '.png')):\n",
    "                image_files.append(os.path.join(root, file))\n",
    "    return image_files\n",
    "\n",
    "manifest = Manifest(url='https://purl.stanford.edu/rp333ft9447/iiif/manifest')\n",
    "manifest.save_images()  # Download the images\n",
    "\n",
    "# Recursively find downloaded images\n",
    "image_files = find_images('.') \n",
    "\n",
    "if image_files:\n",
    "    # Load the first downloaded image\n",
    "    img_path = image_files[0]\n",
    "    img = Image.open(img_path) \n",
    "\n",
    "    # Now you can display the image\n",
    "    imgplot = plt.imshow(img)\n",
    "    plt.show()\n",
    "else:\n",
    "    print(\"No downloaded images found.\")"
   ]
  }
 ],
 "metadata": {
  "kernelspec": {
   "display_name": "gdal-env",
   "language": "python",
   "name": "python3"
  },
  "language_info": {
   "codemirror_mode": {
    "name": "ipython",
    "version": 3
   },
   "file_extension": ".py",
   "mimetype": "text/x-python",
   "name": "python",
   "nbconvert_exporter": "python",
   "pygments_lexer": "ipython3",
   "version": "3.11.8"
  }
 },
 "nbformat": 4,
 "nbformat_minor": 2
}
