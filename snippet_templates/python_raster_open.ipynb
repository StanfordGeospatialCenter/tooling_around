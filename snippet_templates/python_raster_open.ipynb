{
 "cells": [
  {
   "cell_type": "code",
   "execution_count": null,
   "metadata": {},
   "outputs": [],
   "source": [
    "pip install rasterio matplotlib"
   ]
  },
  {
   "cell_type": "code",
   "execution_count": null,
   "metadata": {},
   "outputs": [],
   "source": [
    "import requests\n",
    "import zipfile\n",
    "import io\n",
    "import rasterio\n",
    "from rasterio.plot import show\n",
    "import matplotlib.pyplot as plt\n",
    "import os\n",
    "\n",
    "def download_and_display_geotiff(layer_name):\n",
    "    # Construct URL to the zip file\n",
    "    zip_url = f\"https://stacks.stanford.edu/object/{layer_name}\"\n",
    "    \n",
    "    # Fetch the zip file\n",
    "    response = requests.get(zip_url)\n",
    "    \n",
    "    # Path to extract the zip file\n",
    "    extract_path = f\"./{layer_name}\"\n",
    "    os.makedirs(extract_path, exist_ok=True)\n",
    "    \n",
    "    # Unzip the outer zip file\n",
    "    with open(f\"{extract_path}/{layer_name}.zip\", \"wb\") as f:\n",
    "        f.write(response.content)\n",
    "        \n",
    "    with zipfile.ZipFile(f\"{extract_path}/{layer_name}.zip\", 'r') as zip_ref:\n",
    "        zip_ref.extractall(extract_path)\n",
    "    \n",
    "    # Find the inner zip file (data.zip)\n",
    "    inner_zip_path = os.path.join(extract_path, \"data.zip\")\n",
    "    \n",
    "    if not os.path.exists(inner_zip_path):\n",
    "        print(\"No inner zip file (data.zip) found.\")\n",
    "        return\n",
    "\n",
    "    # Unzip the inner zip file\n",
    "    with zipfile.ZipFile(inner_zip_path, 'r') as inner_zip_ref:\n",
    "        inner_zip_ref.extractall(extract_path)\n",
    "\n",
    "    # Find the GeoTIFF file in the extracted contents\n",
    "    geotiff_filename = None\n",
    "    for root, dirs, files in os.walk(extract_path):\n",
    "        for file in files:\n",
    "            if file.endswith('.tif'):\n",
    "                geotiff_filename = os.path.join(root, file)\n",
    "                break\n",
    "\n",
    "    if geotiff_filename is None:\n",
    "        print(\"No GeoTIFF file found in the extracted contents.\")\n",
    "        return\n",
    "\n",
    "    # Load the GeoTIFF file into rasterio\n",
    "    with rasterio.open(geotiff_filename) as dataset:\n",
    "        # Plot the image data using matplotlib\n",
    "        plt.figure(figsize=(10, 10))\n",
    "        plt.title(f\"Raster Data for {layer_name}\")\n",
    "        show(dataset, cmap='gray')\n",
    "        plt.close()\n",
    "\n",
    "# Example usage\n",
    "layer_name = \"zz904rr3890\"\n",
    "download_and_display_geotiff(layer_name)\n"
   ]
  }
 ],
 "metadata": {
  "kernelspec": {
   "display_name": "gdal-env",
   "language": "python",
   "name": "python3"
  },
  "language_info": {
   "codemirror_mode": {
    "name": "ipython",
    "version": 3
   },
   "file_extension": ".py",
   "mimetype": "text/x-python",
   "name": "python",
   "nbconvert_exporter": "python",
   "pygments_lexer": "ipython3",
   "version": "3.11.8"
  }
 },
 "nbformat": 4,
 "nbformat_minor": 2
}
